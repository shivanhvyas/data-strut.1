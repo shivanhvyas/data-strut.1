{
  "nbformat": 4,
  "nbformat_minor": 0,
  "metadata": {
    "colab": {
      "provenance": [],
      "toc_visible": true,
      "authorship_tag": "ABX9TyONjKGMd5JFokrbV6xjkC+V",
      "include_colab_link": true
    },
    "kernelspec": {
      "name": "python3",
      "display_name": "Python 3"
    },
    "language_info": {
      "name": "python"
    }
  },
  "cells": [
    {
      "cell_type": "markdown",
      "metadata": {
        "id": "view-in-github",
        "colab_type": "text"
      },
      "source": [
        "<a href=\"https://colab.research.google.com/github/shivanhvyas/data-strut.1/blob/main/assigment_.ipynb\" target=\"_parent\"><img src=\"https://colab.research.google.com/assets/colab-badge.svg\" alt=\"Open In Colab\"/></a>"
      ]
    },
    {
      "cell_type": "markdown",
      "source": [
        " 1 Write a code to reverse a string."
      ],
      "metadata": {
        "id": "E92Lb1q_kos_"
      }
    },
    {
      "cell_type": "code",
      "source": [
        "st=\" whly\"\n",
        "st=st[::-1]\n",
        "st"
      ],
      "metadata": {
        "id": "l53HjceRktRB",
        "colab": {
          "base_uri": "https://localhost:8080/",
          "height": 35
        },
        "outputId": "4a74f205-5c2b-40d3-b69b-b375385f9c4d"
      },
      "execution_count": 1,
      "outputs": [
        {
          "output_type": "execute_result",
          "data": {
            "text/plain": [
              "'ylhw '"
            ],
            "application/vnd.google.colaboratory.intrinsic+json": {
              "type": "string"
            }
          },
          "metadata": {},
          "execution_count": 1
        }
      ]
    },
    {
      "cell_type": "markdown",
      "source": [
        "2 .Write a code to count the number of vowels in a string\u0012"
      ],
      "metadata": {
        "id": "VqVeCRk3mfDM"
      }
    },
    {
      "cell_type": "code",
      "source": [
        "count=0\n",
        "sti=\"A man is always respect his time and women always made time .\"\n",
        "sti=sti.upper()\n",
        "\n",
        "for i in sti:\n",
        "  if(i in (\"A\" , \"E\" ,\"I\" , \"O\" , \"U\")):\n",
        "      count+=1\n",
        "print(count)"
      ],
      "metadata": {
        "id": "ollrZGvpmc5R",
        "colab": {
          "base_uri": "https://localhost:8080/"
        },
        "outputId": "05ba2089-f528-4419-f0aa-fe6c9370d51f"
      },
      "execution_count": 2,
      "outputs": [
        {
          "output_type": "stream",
          "name": "stdout",
          "text": [
            "19\n"
          ]
        }
      ]
    },
    {
      "cell_type": "markdown",
      "source": [
        "3. Write a code to check if a given string is a palindrome or not\u0012"
      ],
      "metadata": {
        "id": "vB1gAJJ-pNv4"
      }
    },
    {
      "cell_type": "code",
      "source": [
        "st3 = input(\"Enter the string: \")\n",
        "stcopy = st3\n",
        "st3 = st3[::-1]\n",
        "if st3 == stcopy:\n",
        "    print(\"Palindrome\")\n",
        "else:\n",
        "    print(\"Not a palindrome\")\n",
        "\n"
      ],
      "metadata": {
        "id": "V3tWwNRLpNhP",
        "colab": {
          "base_uri": "https://localhost:8080/"
        },
        "outputId": "c9b00afe-1b91-4197-f929-4ccbb9805fae"
      },
      "execution_count": 3,
      "outputs": [
        {
          "output_type": "stream",
          "name": "stdout",
          "text": [
            "Enter the string: \"lol\"\n",
            "Palindrome\n"
          ]
        }
      ]
    },
    {
      "cell_type": "markdown",
      "source": [
        "4. Write a code to check if two given strings are anagrams of each other"
      ],
      "metadata": {
        "id": "5_4Lxry3r_pE"
      }
    },
    {
      "cell_type": "code",
      "source": [
        "def anagrams (str1,str2):\n",
        "  if(len(str1)!=len(str2)):\n",
        "     return False\n",
        "  if(sorted(str1)==sorted(str2)):\n",
        "     return True\n",
        "\n"
      ],
      "metadata": {
        "id": "Ng9v_snqr_Xl"
      },
      "execution_count": 4,
      "outputs": []
    },
    {
      "cell_type": "code",
      "source": [
        "str1=\"listen\"\n",
        "str2=\"silent\"\n",
        "print(anagrams(str1, str2))"
      ],
      "metadata": {
        "id": "45tuxjJu2Atm",
        "colab": {
          "base_uri": "https://localhost:8080/"
        },
        "outputId": "36c8b58e-3b46-4c43-bdda-8eedf57f4a26"
      },
      "execution_count": 5,
      "outputs": [
        {
          "output_type": "stream",
          "name": "stdout",
          "text": [
            "True\n"
          ]
        }
      ]
    },
    {
      "cell_type": "markdown",
      "source": [
        "5.  Write a code to find all occurrences of a given substring within another string"
      ],
      "metadata": {
        "id": "sIi_4rmW5P9s"
      }
    },
    {
      "cell_type": "code",
      "source": [
        "def find_occ(main_str, sub_str):\n",
        "    index = []\n",
        "    start = 0\n",
        "    while True:\n",
        "        start = main_str.find(sub_str, start)\n",
        "        if start == -1:\n",
        "            break\n",
        "        index.append(start)\n",
        "        start += 1\n",
        "    return index\n",
        "\n",
        "\n",
        "\n"
      ],
      "metadata": {
        "id": "tF6p3kOA8tTG"
      },
      "execution_count": 6,
      "outputs": []
    },
    {
      "cell_type": "code",
      "source": [
        "main_string = \"abracadabra\"\n",
        "substring = \"abra\"\n",
        "index = find_occ(main_string, substring)\n",
        "print(index)\n"
      ],
      "metadata": {
        "id": "MglXBG6X-QVw",
        "colab": {
          "base_uri": "https://localhost:8080/"
        },
        "outputId": "e77fd4d9-7f84-478a-ed1d-4c1a1d7ad112"
      },
      "execution_count": 7,
      "outputs": [
        {
          "output_type": "stream",
          "name": "stdout",
          "text": [
            "[0, 7]\n"
          ]
        }
      ]
    },
    {
      "cell_type": "markdown",
      "source": [
        "6. Write a code to perform basic string compression using the counts of repeated characters"
      ],
      "metadata": {
        "id": "Mu0ARlUZcgmk"
      }
    },
    {
      "cell_type": "code",
      "source": [
        "def comp(strc):\n",
        "  lis=[]\n",
        "  count=1\n",
        "  for i in range(1,len(strc)):\n",
        "    if strc[i]==strc[i-1]:\n",
        "      count+=1\n",
        "    else:\n",
        "      lis.append(strc[i-1]+str(count))\n",
        "      count=1\n",
        "    #last one is remaning so\n",
        "  lis.append(strc[-1]+str(count))\n",
        "  return ' '.join(lis)\n",
        "\n",
        "print(comp(\"aaabbbaaabbb\"))\n"
      ],
      "metadata": {
        "id": "vLJxLhMpbyjI",
        "colab": {
          "base_uri": "https://localhost:8080/"
        },
        "outputId": "1e30b9e2-99cd-4bd9-9a66-a7f28db18aa5"
      },
      "execution_count": 8,
      "outputs": [
        {
          "output_type": "stream",
          "name": "stdout",
          "text": [
            "a3 b3 a3 b3\n"
          ]
        }
      ]
    },
    {
      "cell_type": "markdown",
      "source": [
        "7. Write a code to determine if a string has all unique characters"
      ],
      "metadata": {
        "id": "MLsd3luz3JGl"
      }
    },
    {
      "cell_type": "code",
      "source": [
        "def unique(s):\n",
        "  copys=s\n",
        "  char_set=set(copys)\n",
        "  if len(copys)==len(char_set):\n",
        "    return True\n",
        "\n",
        "  else :\n",
        "    return False\n",
        "\n",
        "\n",
        "print(unique(input(\" etner string \")))\n"
      ],
      "metadata": {
        "id": "wtk-Urfm1EoV",
        "colab": {
          "base_uri": "https://localhost:8080/"
        },
        "outputId": "0d672ef3-a0ad-4447-8096-9edb275632ff"
      },
      "execution_count": 26,
      "outputs": [
        {
          "output_type": "stream",
          "name": "stdout",
          "text": [
            " etner string \"lo\"\n",
            "False\n"
          ]
        }
      ]
    },
    {
      "cell_type": "markdown",
      "source": [
        "8.  Write a code to convert a given string to uppercase or lowercase"
      ],
      "metadata": {
        "id": "OyuX2MG1CoJt"
      }
    },
    {
      "cell_type": "code",
      "source": [
        "swap_C=lambda a:a.swapcase()\n",
        "print(swap_C(input(\"enter string\")))"
      ],
      "metadata": {
        "id": "qfV-VdaXCr9k"
      },
      "execution_count": null,
      "outputs": []
    },
    {
      "cell_type": "markdown",
      "source": [
        "9. Write a code to count the number of words in a string"
      ],
      "metadata": {
        "id": "OIr3WhINPjn-"
      }
    },
    {
      "cell_type": "code",
      "source": [
        "def count_words(s):\n",
        "    words = s.split()\n",
        "    return len(words)\n",
        "\n",
        "print(count_words(input(\"etner string\")))"
      ],
      "metadata": {
        "id": "qTERWr_7PjSP"
      },
      "execution_count": null,
      "outputs": []
    },
    {
      "cell_type": "markdown",
      "source": [
        "10. Write a code to concatenate two strings without using the + operator"
      ],
      "metadata": {
        "id": "oqw7qQHanxkA"
      }
    },
    {
      "cell_type": "markdown",
      "source": [],
      "metadata": {
        "id": "M162wCx-OILJ"
      }
    },
    {
      "cell_type": "code",
      "source": [
        "def con(str1 , str2):\n",
        "  return f\"{str1} {str2}\"\n",
        "\n",
        "print(con(input(\"enter string 1\"),input(\"enter string 2\")))"
      ],
      "metadata": {
        "id": "wM0l2dKGny_b"
      },
      "execution_count": null,
      "outputs": []
    },
    {
      "cell_type": "markdown",
      "source": [
        "11. Write a code to remove all occurrences of a specific element from a list\n"
      ],
      "metadata": {
        "id": "Ur8F4Qs8o61H"
      }
    },
    {
      "cell_type": "code",
      "source": [
        "my_lis=[1,2,3,4,5,2,3,4,1]\n",
        "remove_val= int(input(\"konsa remove karna he\"))\n",
        "my_lis=[i for i in my_lis if i!=remove_val]\n",
        "print(my_lis)\n"
      ],
      "metadata": {
        "id": "R6fqIvq0o7pu"
      },
      "execution_count": null,
      "outputs": []
    },
    {
      "cell_type": "markdown",
      "source": [
        "12. Implement a code to find the second largest number in a given list of integers"
      ],
      "metadata": {
        "id": "tJ8NQ9ShwSgf"
      }
    },
    {
      "cell_type": "code",
      "source": [
        "def sec_lar(numbers):\n",
        "  unique_no=list(set(numbers))\n",
        "  unique_no.sort( reverse=True)\n",
        "  return unique_no[1 ] if len( unique_no ) >1 else None\n",
        "\n",
        "s=(sec_lar([1,2,3,4,3,4,3,4,5,6,7,5,41,144,12,222,12]))\n",
        "print(s)"
      ],
      "metadata": {
        "id": "ZM1XDO_i5aE2"
      },
      "execution_count": null,
      "outputs": []
    },
    {
      "cell_type": "markdown",
      "source": [
        " 13. Create a code to count the occurrences of each element in a list and return a dictionary with elements as\n",
        "keys and their counts as values"
      ],
      "metadata": {
        "id": "P1VgnMNHR3dq"
      }
    },
    {
      "cell_type": "code",
      "source": [
        "def count_occurrences(lst):\n",
        "\n",
        "    counts = {}\n",
        "    for item in lst:\n",
        "        if item in counts:\n",
        "            counts[item] += 1\n",
        "        else:\n",
        "            counts[item] = 1\n",
        "    return counts\n",
        "\n"
      ],
      "metadata": {
        "id": "5_khvCJVSD-M"
      },
      "execution_count": null,
      "outputs": []
    },
    {
      "cell_type": "markdown",
      "source": [
        "14. Write a code to reverse a list in-place without using any built-in reverse functions"
      ],
      "metadata": {
        "id": "UX9SYAiRSKaS"
      }
    },
    {
      "cell_type": "code",
      "source": [
        "def rev(nums):\n",
        "  i=0\n",
        "  j=nums[-1]\n",
        "  while i<j:\n",
        "    temp=nums[i]\n",
        "    nums[i]=nums[j]\n",
        "    nums[j]=temp\n",
        "    i+=1\n",
        "    j-=1\n",
        "\n",
        "\n",
        "  return nums\n",
        "\n",
        "print(rev([1,2,3,4,4,5]))\n",
        "\n"
      ],
      "metadata": {
        "id": "8Yr-gEFFSxYL"
      },
      "execution_count": null,
      "outputs": []
    },
    {
      "cell_type": "markdown",
      "source": [
        "15. Implement a code to find and remove duplicates from a list while preserving the original order of\n",
        "elements"
      ],
      "metadata": {
        "id": "_fbCDGjLWPac"
      }
    },
    {
      "cell_type": "code",
      "source": [
        "def remove_duplicates(lst):\n",
        "\n",
        "    seen = set()\n",
        "    result = []\n",
        "    for item in lst:\n",
        "        if item not in seen:\n",
        "            result.append(item)\n",
        "            seen.add(item)\n",
        "    return result\n",
        "\n",
        "# Example usage\n",
        "input_list = [1, 2, 2, 3, 4, 4, 5]\n",
        "unique_list = remove_duplicates(input_list)\n",
        "\n",
        "print(\"Original list:\", input_list)\n",
        "print(\"List with duplicates removed:\", unique_list)\n"
      ],
      "metadata": {
        "id": "agaPC09CWXxq"
      },
      "execution_count": null,
      "outputs": []
    },
    {
      "cell_type": "markdown",
      "source": [
        "16.Create a code to check if a given list is sorted (either in ascending or descending order) or not"
      ],
      "metadata": {
        "id": "MDTEKKrDgzZW"
      }
    },
    {
      "cell_type": "code",
      "source": [
        "def check(lst):\n",
        "  if ((sorted(lst) or sorted(lst,reverse=True))==lst):\n",
        "    return True\n",
        "  else :\n",
        "    return False\n",
        "\n",
        "\n",
        "print(check([1,2,3,0,5,6]))\n"
      ],
      "metadata": {
        "id": "J-uTu_nlg_Xe"
      },
      "execution_count": null,
      "outputs": []
    },
    {
      "cell_type": "markdown",
      "source": [
        "17. Write a code to merge two sorted lists into a single sorted list"
      ],
      "metadata": {
        "id": "KGX2rPwtkuwy"
      }
    },
    {
      "cell_type": "code",
      "source": [
        "def merge(s1,s2):\n",
        "  s=s1+s2\n",
        "  s.sort()\n",
        "  return s\n",
        "\n",
        "print(merge([1,2,3,4,4],[3,4,5,6,7,8,9]))\n"
      ],
      "metadata": {
        "id": "4uGCywpak4Xv"
      },
      "execution_count": null,
      "outputs": []
    },
    {
      "cell_type": "markdown",
      "source": [
        "18. Implement a code to find the intersection of two given lists\n"
      ],
      "metadata": {
        "id": "_qlM3iEHQjaQ"
      }
    },
    {
      "cell_type": "code",
      "source": [
        "def common(l1,l2):\n",
        "\n",
        "  l1,l2=set(l1),set(l2)\n",
        "\n",
        "\n",
        "  return sorted(list(l1&l2))\n",
        "\n",
        "print(common([1,2,3,4],[3,4,5,6]))\n",
        "\n"
      ],
      "metadata": {
        "id": "eETg9TyoSnR3"
      },
      "execution_count": null,
      "outputs": []
    },
    {
      "cell_type": "markdown",
      "source": [
        "19. Create a code to find the union of two lists without duplicates"
      ],
      "metadata": {
        "id": "u8T2j78SUaVO"
      }
    },
    {
      "cell_type": "code",
      "source": [
        "def union(l1,l2):\n",
        "\n",
        "  l1,l2=set(l1),set(l2)\n",
        "\n",
        "  return sorted(list(l1|l2))\n",
        "\n",
        "print(union([1,2,3,4],[3,4,5,6]))\n"
      ],
      "metadata": {
        "id": "ZdFoteGLUU4A"
      },
      "execution_count": null,
      "outputs": []
    },
    {
      "cell_type": "markdown",
      "source": [
        " 20.Write a code to shuffle a given list randomly without using any built-in shuffle functions"
      ],
      "metadata": {
        "id": "O4v8tqjvVkC9"
      }
    },
    {
      "cell_type": "code",
      "source": [
        "import random\n",
        "def suffle_list(lst):\n",
        "  for i in range (len(lst)-1,0,-1):\n",
        "    j=random.randint(0,i)\n",
        "    lst[i],lst[j]=lst[j],lst[i]\n",
        "\n",
        "  return lst\n",
        "\n",
        "print(suffle_list([1,2,3,4,5,6]))"
      ],
      "metadata": {
        "id": "Bb_JgojSV2bH"
      },
      "execution_count": null,
      "outputs": []
    },
    {
      "cell_type": "markdown",
      "source": [
        "21.  Write a code that takes two tuples as input and returns a new tuple containing elements that are\n",
        "common to both input tuples"
      ],
      "metadata": {
        "id": "hzUCoggfqt36"
      }
    },
    {
      "cell_type": "code",
      "source": [
        "def tup(tup1,tup2):\n",
        "  tup1,tup2= set(tup1),set(tup2)\n",
        "  return sorted(list(tup1&tup2))\n",
        "\n",
        "input1= input(\"Enter 1st tuple\")\n",
        "input2=input(\"etnrr 2nd tuple\")\n",
        "tup1=input1.split(\",\")\n",
        "tup2=input2.split(\",\")\n",
        "print(tup(tup1,tup2))"
      ],
      "metadata": {
        "id": "aNtEGhtBHmLO"
      },
      "execution_count": null,
      "outputs": []
    },
    {
      "cell_type": "markdown",
      "source": [
        "22.  Create a code that prompts the user to enter two sets of integers separated by commas. Then, print the\n",
        "intersection of these two sets"
      ],
      "metadata": {
        "id": "S4Ntx_73JoUP"
      }
    },
    {
      "cell_type": "code",
      "source": [
        "def seti(st1,st2):\n",
        "\n",
        "  return (st1&st2)\n",
        "\n",
        "input1= input(\"Enter 1st set\")\n",
        "input2=input(\"etnrr 2ndset\")\n",
        "set1=set (input1.split(\",\"))\n",
        "set2=set( input2.split(\",\"))\n",
        "print(seti(set1,set2))"
      ],
      "metadata": {
        "id": "sG4gWoY_JmxE"
      },
      "execution_count": null,
      "outputs": []
    },
    {
      "cell_type": "markdown",
      "source": [
        "23. Write a code to concatenate two tuples. The function should take two tuples as input and return a new\n",
        "tuple containing elements from both input tuples"
      ],
      "metadata": {
        "id": "lQgIOPWpRSEv"
      }
    },
    {
      "cell_type": "code",
      "source": [
        "def tup(c1,c2):\n",
        "  return c1+c2\n",
        "\n",
        "input1= input(\"Enter 1st tuple\")\n",
        "input2=input(\"etnrr 2nd tuple\")\n",
        "tup1=input1.split(\",\")\n",
        "tup2=input2.split(\",\")\n",
        "print(tup(tup1,tup2))"
      ],
      "metadata": {
        "id": "Bkb4ij29RQMI"
      },
      "execution_count": null,
      "outputs": []
    },
    {
      "cell_type": "markdown",
      "source": [
        "24. Develop a code that prompts the user to input two sets of strings. Then, print the elements that are\n",
        "present in the first set but not in the second set"
      ],
      "metadata": {
        "id": "EfRIRTzSTvwt"
      }
    },
    {
      "cell_type": "code",
      "source": [
        "def a(c1,c2):\n",
        "  return c1-c2\n",
        "\n",
        "input1= input(\"Enter 1st set\")\n",
        "input2=input(\"etnrr 2nd set\")\n",
        "tupu1=set( input1.split(\",\"))\n",
        "tupu2=set( input2.split(\",\"))\n",
        "print(a(tupu1,tupu2))"
      ],
      "metadata": {
        "id": "aZyA2ax1T6R1"
      },
      "execution_count": null,
      "outputs": []
    },
    {
      "cell_type": "markdown",
      "source": [
        "25.  Create a code that takes a tuple and two integers as input. The function should return a new tuple\n",
        "containing elements from the original tuple within the specified range of indices."
      ],
      "metadata": {
        "id": "6FfS5nvZW5nf"
      }
    },
    {
      "cell_type": "code",
      "source": [
        "def c(tup1,el1,el2):\n",
        "  return tup1[el1:el2]\n",
        "\n",
        "\n",
        "el1,el2=int (input(\"enter 1 element\")),int(input(\"enter 2 element \"))\n",
        "tup1=(input(\" enter tuple\"))\n",
        "tup1=tuple(tup1.split(\",\"))\n",
        "print(c(tup1,el1,el2))"
      ],
      "metadata": {
        "id": "oKNy9SODzDxZ"
      },
      "execution_count": null,
      "outputs": []
    },
    {
      "cell_type": "markdown",
      "source": [
        "26. Write a code that prompts the user to input two sets of characters. Then, print the union of these two sets"
      ],
      "metadata": {
        "id": "TviBIwKOymab"
      }
    },
    {
      "cell_type": "code",
      "source": [
        "def uni(set1,set2):\n",
        "  return (set1|set2)\n",
        "\n",
        "set1=set(input(\" enter elements\").split(\",\"))\n",
        "set2=set(input(\" enter elements\").split(\",\"))\n",
        "print(uni(set1,set2))"
      ],
      "metadata": {
        "id": "7VN2yCbcQMj7"
      },
      "execution_count": null,
      "outputs": []
    },
    {
      "cell_type": "markdown",
      "source": [
        " 27. Develop a code that takes a tuple of integers as input. The function should return the maximum and\n",
        "minimum values from the tuple using tuple unpacking.\n"
      ],
      "metadata": {
        "id": "k4H6IyCKSI2b"
      }
    },
    {
      "cell_type": "code",
      "source": [
        "def min_max(values):\n",
        "  return min(values),max(values)\n",
        "\n",
        "\n",
        "values=(input(\"Enter values as for tupple\").split(\",\"))\n",
        "print(min_max(values))"
      ],
      "metadata": {
        "id": "HALSqFgkSjJ-"
      },
      "execution_count": null,
      "outputs": []
    },
    {
      "cell_type": "markdown",
      "source": [
        "28. Create a code that defines two sets of integers. Then, print the union, intersection, and difference of these two sets."
      ],
      "metadata": {
        "id": "_6AKHCLSU9Fz"
      }
    },
    {
      "cell_type": "code",
      "source": [
        "def sab(set1,set2):\n",
        "  print(\"union=\",set1|set2)\n",
        "  print(\"intersection=\",set1&set2)\n",
        "  print(\" diffrence=\",(set1-set2))\n",
        "  print(\"symeteic diffrence=\",(set1-set2)|(set2-set1))\n",
        "  print(\"symmentric diff=\",set1^set2)\n",
        "\n",
        "sab(set( input(\"enter \").split(\",\")) ,set( input(\"enter \").split(\",\")))\n"
      ],
      "metadata": {
        "id": "6nOvo7Q9VH8M"
      },
      "execution_count": null,
      "outputs": []
    },
    {
      "cell_type": "markdown",
      "source": [
        "29. Write a code that takes a tuple and an element as input. The function should return the count of\n",
        "occurrences of the given element in the tuple"
      ],
      "metadata": {
        "id": "zw5Md9all-QO"
      }
    },
    {
      "cell_type": "code",
      "source": [
        "def counts(tup1,element):\n",
        "  return tup1.count(element)\n",
        "\n",
        "\n",
        "print(counts( tuple(input(\"Enter tupple.\").split(\",\")) , input(\"enter element\")))\n",
        "\n",
        "\n"
      ],
      "metadata": {
        "id": "J5IBKRoXnO-c"
      },
      "execution_count": null,
      "outputs": []
    },
    {
      "cell_type": "markdown",
      "source": [
        "30. Develop a code that prompts the user to input two sets of strings. Then, print the symmetric difference of\n",
        "these two sets"
      ],
      "metadata": {
        "id": "LYn0H2uXpkGU"
      }
    },
    {
      "cell_type": "code",
      "source": [
        "def uni(str1,str2):\n",
        "  print(str1^str2)\n",
        "\n",
        "\n",
        "uni(set(input(\"Enter\").split(\",\")),set(input(\"Enter\").split(\",\")) )\n",
        "\n"
      ],
      "metadata": {
        "id": "AhpzsHHzpsjN"
      },
      "execution_count": null,
      "outputs": []
    },
    {
      "cell_type": "markdown",
      "source": [
        "31. Write a code that takes a list of words as input and returns a dictionary where the keys are unique words\n",
        "and the values are the frequencies of those words in the input list"
      ],
      "metadata": {
        "id": "5EiaxHabjv7X"
      }
    },
    {
      "cell_type": "code",
      "source": [
        "def word_freq(word_list):\n",
        "  freq_dic={}\n",
        "  for word in word_list:\n",
        "    if word in freq_dic:\n",
        "\n",
        "      freq_dic[word]+=1\n",
        "\n",
        "    else:\n",
        "      freq_dic[word]=1\n",
        "\n",
        "  return freq_dic\n",
        "\n",
        "\n",
        "\n",
        "words = ['apple', 'banana', 'apple', 'orange', 'banana', 'apple']\n",
        "freq=word_freq(words)\n",
        "\n",
        "print(freq)\n"
      ],
      "metadata": {
        "id": "r3emT8f43R6r"
      },
      "execution_count": null,
      "outputs": []
    },
    {
      "cell_type": "markdown",
      "source": [
        "32. Write a code that takes two dictionaries as input and merges them into a single dictionary. If there are\n",
        "common keys, the values should be added together\n"
      ],
      "metadata": {
        "id": "Pt5RlKloyUrM"
      }
    },
    {
      "cell_type": "code",
      "source": [
        "import ast\n",
        "def input_dic():\n",
        "  while True:\n",
        "    input_str=input(\"Enter a dictionary:\")\n",
        "    try:\n",
        "      return ast.literal_eval(input_str)\n",
        "    except (ValueError, SyntaxError):\n",
        "      print(\"Invaild input. \")\n",
        "\n",
        "def merge_dic(dict1,dict2):\n",
        "  merged_dict=dict1.copy()\n",
        "  for key , value in dict2.items():\n",
        "    if key in merged_dict:\n",
        "      merged_dict[key]+=value\n",
        "    else :\n",
        "      merged_dict[key]=value\n",
        "\n",
        "  return merged_dict\n",
        "\n",
        "dict1=input_dic()\n",
        "dict2=input_dic()\n",
        "\n",
        "merge_dicn= merge_dic(dict1,dict2)\n",
        "print(\"merge is :\",merge_dicn)\n",
        "\n",
        "\n",
        "\n",
        "\n",
        "\n",
        "\n",
        "\n",
        "\n",
        "\n",
        "\n",
        "\n",
        "\n"
      ],
      "metadata": {
        "id": "eZFGwlfdb5Qy"
      },
      "execution_count": null,
      "outputs": []
    },
    {
      "cell_type": "markdown",
      "source": [
        "33. Write a code to access a value in a nested dictionary. The function should take the dictionary and a list of\n",
        "keys as input, and return the corresponding value. If any of the keys do not exist in the dictionary, the\n",
        "function should return None"
      ],
      "metadata": {
        "id": "5iMcEz7idyZR"
      }
    },
    {
      "cell_type": "code",
      "source": [
        "def get_nested_value(d, keys):\n",
        "\n",
        "    current = d\n",
        "    for key in keys:\n",
        "        if isinstance(current, dict) and key in current:\n",
        "            current = current[key]\n",
        "        else:\n",
        "            return None\n",
        "    return current\n",
        "\n"
      ],
      "metadata": {
        "id": "5FSenx9Dd9sh"
      },
      "execution_count": null,
      "outputs": []
    },
    {
      "cell_type": "markdown",
      "source": [
        "34. Write a code that takes a dictionary as input and returns a sorted version of it based on the values. You\n",
        "can choose whether to sort in ascending or descending order."
      ],
      "metadata": {
        "id": "VpGrRh6afIUS"
      }
    },
    {
      "cell_type": "code",
      "source": [
        "def sort_dict_by_value(d, ascending=True):\n",
        "\n",
        "    sorted_items = sorted(d.items(), key=lambda item: item[1], reverse=not ascending)\n",
        "    return dict(sorted_items)\n",
        "\n"
      ],
      "metadata": {
        "id": "HhZnEKvofQcz"
      },
      "execution_count": null,
      "outputs": []
    },
    {
      "cell_type": "markdown",
      "source": [
        "35. Write a code that inverts a dictionary, swapping keys and values. Ensure that the inverted dictionary\n",
        "correctly handles cases where multiple keys have the same value by storing the keys as a list in the\n",
        "inverted dictionary.\n",
        "\n",
        "---\n",
        "\n"
      ],
      "metadata": {
        "id": "2tYXqUOdfUtm"
      }
    },
    {
      "cell_type": "code",
      "source": [
        "def invert_dict(d):\n",
        "\n",
        "    inverted_dict = {}\n",
        "    for key, value in d.items():\n",
        "        if value in inverted_dict:\n",
        "            if isinstance(inverted_dict[value], list):\n",
        "                inverted_dict[value].append(key)\n",
        "            else:\n",
        "                inverted_dict[value] = [inverted_dict[value], key]\n",
        "        else:\n",
        "            inverted_dict[value] = key\n",
        "    return inverted_dict\n",
        "\n"
      ],
      "metadata": {
        "id": "k4smLr42fYOv"
      },
      "execution_count": null,
      "outputs": []
    }
  ]
}